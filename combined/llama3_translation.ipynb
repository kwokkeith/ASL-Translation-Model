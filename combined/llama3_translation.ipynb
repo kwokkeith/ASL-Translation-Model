{
 "cells": [
  {
   "cell_type": "code",
   "execution_count": 1,
   "metadata": {},
   "outputs": [],
   "source": [
    "# Import python's built-in regular expression library\n",
    "import re\n",
    "import ollama\n",
    "from ollama import chat, ChatResponse, Options\n"
   ]
  },
  {
   "cell_type": "code",
   "execution_count": 2,
   "metadata": {},
   "outputs": [],
   "source": [
    "# prompt = \"The below is an output from a model intepreting a sentence using ASL. .\\n\" + \\\n",
    "#         \"The inputs may contain phrases and individual alphabets, but the detection might tend toward specific alphabets or numbers, causing redundant inputs and duplicates.\\n\" + \\\n",
    "#         # \"Also, the signs of some alphabets and numbers are extremely similar. \\n\" + \\\n",
    "#         # \"Do not consider the output as a number or alphabet until you have 10 consecutive predictions.\\n\" + \\\n",
    "#         # \"Do not take any alphabet to be an intepretation of something else. \\n\" + \\\n",
    "#         \"I want you to decipher in the particular context if the output should be a number or alphabet before you output an approximate and logical phrase that the person is trying to say.\\n\" +  \\\n",
    "#         \"Assistant: sure, here's the required information:if the output should be a numb\"\n",
    "grammar = 'root::= optional-greeting WS? (question | statement) \\n' + \\\n",
    "            'optional-greeting ::= greeting-word |  \\n' + \\\n",
    "            'greeting-word ::= \"Hello\" \\n' + \\\n",
    "            'question ::= interrogative-pronoun WS verb WS possessive-pronoun WS noun \"?\" \\n' + \\\n",
    "            'statement ::= possessive-pronoun WS noun WS verb WS proper-noun (WS proper-noun)* \\n' + \\\n",
    "            'interrogative-pronoun ::= \"What\" \\n' + \\\n",
    "            'possessive-pronoun ::= \"My\" | \"Your\" \\n' + \\\n",
    "            'verb ::= \"is\" \\n' + \\\n",
    "            'noun ::= \"name\" \\n' + \\\n",
    "            'proper-noun ::= capital-word+ \\n' + \\\n",
    "            'capital-word ::= capital-letter+ \\n' + \\\n",
    "            'capital-letter ::= [A-Z] \\n' + \\\n",
    "            'lowercase-letter ::= [a-z] \\n' + \\\n",
    "            'WS ::= \" \" | \"\\t\" | \"\\n\"'\n",
    "\n",
    "json_format = {\n",
    "    \"Reasoning\": \"...\",\n",
    "    \"Output\": \"...\"\n",
    "}\n",
    "\n",
    "\n"
   ]
  },
  {
   "cell_type": "code",
   "execution_count": 3,
   "metadata": {},
   "outputs": [],
   "source": [
    "grammar = 'root         ::= question | statement | greeting-question | greeting-statement \\n' + \\\n",
    "'question               ::= interrogative-pronoun WS verb WS possessive-pronoun WS noun \"?\"\\n' + \\\n",
    "'greeting-question      ::= greeting WS question\\n' + \\\n",
    "'statement              ::= possessive-pronoun WS noun WS verb WS proper-noun (WS proper-noun)*\\n' + \\\n",
    "'greeting-statement     ::= greeting WS statement\\n' + \\\n",
    "'greeting               ::= \"hello\"\\n' + \\\n",
    "'interrogative-pronoun  ::= \"what\"\\n' + \\\n",
    "'possessive-pronoun     ::= \"my\" | \"your\"\\n' + \\\n",
    "'verb                   ::= \"is\"\\n' + \\\n",
    "'noun                   ::= \"name\"\\n' + \\\n",
    "'proper-noun            ::= lowercase-letter+\\n' + \\\n",
    "'lowercase-letter       ::= [a-z]\\n' + \\\n",
    "'number\t\t            ::= [0-9]\\n' + \\\n",
    "'WS                     ::= \" \" | \"\\t\" | \"\\n\"'"
   ]
  },
  {
   "cell_type": "code",
   "execution_count": 4,
   "metadata": {},
   "outputs": [],
   "source": [
    "def get_response(text):\n",
    "    # full_text = prompt + '`' + text + '`'\n",
    "    full_text = text\n",
    "    response: ChatResponse = chat(model='llama3', messages=[\n",
    "    # { 'role': \"system\", \"content\": \"You are an intepretor trying to figure out a sentence using ASL from an ASL classification model.\\n\" + \\\n",
    "    #     \"The inputs may contain phrases and alphanumeric characters, the model might misclassify them due to similar ASL gestures.\\n\" },\n",
    "        # \"You can only use the grammar for your output:\\n\" + grammar},\n",
    "    {'role': \"system\", \"content\": \"You are an interpreter trying to convert ASL signals (possibly misclassified) into full English sentences.\\n\"},\n",
    "                                    # \"Use the provided grammar strictly to guide your interpretation:\\n\" + grammar},\n",
    "    {'role': 'user', 'content': full_text},\n",
    "    # {'role': 'system', 'content': \"Always respond in this exact JSON format: { 'Reasoning': '...', 'Output': '...' }\"},\n",
    "    # {'role': 'user', 'content': \"Only respond using the JSON format with your reasoning and the interpreted sentence.\"},\n",
    "    {'role': 'system', 'content': \"Output:\"},\n",
    "    # {'role': 'assistant', 'content': \"Reasoning: json['Reasoning']\"},\n",
    "    ], options=Options(grammar=grammar, json_format=json_format))\n",
    "    # ])\n",
    "\n",
    "    # print(response['message']['content'])\n",
    "    return response['message']['content']"
   ]
  },
  {
   "cell_type": "code",
   "execution_count": 54,
   "metadata": {},
   "outputs": [],
   "source": [
    "def get_response(text):\n",
    "    full_text = text\n",
    "    response: ChatResponse = chat(model='llama3', messages=[\n",
    "        {\n",
    "            'role': \"system\", \n",
    "            \"content\": (\n",
    "                \"You are an interpreter trying to convert ASL signals (possibly misclassified) into English sentences.\\n\"\n",
    "                \"You must strictly follow this grammar:\\n\"\n",
    "                \"```\\n\" + grammar + \"\\n```\\n\"\n",
    "                \"You must always respond in this JSON format:\\n\"\n",
    "                \"{ 'Reasoning': '...', 'Output': '...' }\"\n",
    "            )\n",
    "        },\n",
    "        {'role': 'user', 'content': full_text}\n",
    "    ])\n",
    "    print (response)\n",
    "    return response['message']['content']\n"
   ]
  },
  {
   "cell_type": "code",
   "execution_count": 55,
   "metadata": {},
   "outputs": [
    {
     "name": "stdout",
     "output_type": "stream",
     "text": [
      "model='llama3' created_at='2025-03-27T06:16:04.303196342Z' done=True done_reason='stop' total_duration=21502323823 load_duration=5130033842 prompt_eval_count=236 prompt_eval_duration=6204727967 eval_count=90 eval_duration=10159284222 message=Message(role='assistant', content='{ \\'Reasoning\\': \\'The input ASL signal appears to be a statement. The \"my\" and \"my\" indicate possession, while the \"H\" and \"name\" indicate the topic is about someone or something. The sign for \"CHRIS\" suggests that the person\\'s name is Chris. Therefore, I will interpret this as a statement saying \"My name is Chris.\"\\', \\'Output\\': \\'My name is Chris.\\' }', images=None, tool_calls=None)\n"
     ]
    },
    {
     "data": {
      "text/plain": [
       "'{ \\'Reasoning\\': \\'The input ASL signal appears to be a statement. The \"my\" and \"my\" indicate possession, while the \"H\" and \"name\" indicate the topic is about someone or something. The sign for \"CHRIS\" suggests that the person\\'s name is Chris. Therefore, I will interpret this as a statement saying \"My name is Chris.\"\\', \\'Output\\': \\'My name is Chris.\\' }'"
      ]
     },
     "execution_count": 55,
     "metadata": {},
     "output_type": "execute_result"
    }
   ],
   "source": [
    "# Prompt\n",
    "# PROMPT = \"Hello 5 5 5 5 J J J 5 Your X J J 5 Name What 5 5 5\"\n",
    "# PROMPT = \"Hello Hello Hello Name My J O H H N\"\n",
    "# PROMPT = \"hello K K K K K K K hello K E E E E 0 I I I I I T T T T T T H H H H H H H H H H H\"\n",
    "PROMPT = \"J my my H name name C H R I S\"\n",
    "\n",
    "# Print Ollama's response\n",
    "json_msg = get_response(PROMPT)\n",
    "json_msg\n",
    "\n"
   ]
  },
  {
   "cell_type": "code",
   "execution_count": 51,
   "metadata": {},
   "outputs": [
    {
     "name": "stdout",
     "output_type": "stream",
     "text": [
      "Hello, my name is Chris.\n"
     ]
    }
   ],
   "source": [
    "# match = re.search(r\"'Output':\\s*'(.*?)'\\s*\", json_msg)\n",
    "match = re.search(r\"'Output':\\s*'((?:[^'\\\\]|\\\\.)*)'\"\n",
    "\n",
    ", json_msg)\n",
    "# match[0]\n",
    "if match:\n",
    "    print(match.group(1))\n",
    "else:\n",
    "\n",
    "    print(\"No match\")"
   ]
  },
  {
   "cell_type": "code",
   "execution_count": 15,
   "metadata": {},
   "outputs": [
    {
     "data": {
      "text/plain": [
       "'system\\n\\nYou are an interpreter trying to convert ASL phrases and fingerspelled names into English sentences. You must strictly follow the grammar provideduser\\n\\nhello your hello H what name name name 5 what whatassistant\\n\\nwhat is your name? [end of text]\\n\\n\\n'"
      ]
     },
     "execution_count": 15,
     "metadata": {},
     "output_type": "execute_result"
    }
   ],
   "source": [
    "import subprocess\n",
    "SYSTEM = \"You are an interpreter trying to convert ASL phrases and fingerspelled names into English sentences. You must strictly follow the grammar provided\"\n",
    "# SYSTEM = \"You are an interpreter trying to convert ASL signals (possibly misclassified and duplicated) and fingerspelled names into English sentences. You must strictly follow this grammar provided.\"\n",
    "\n",
    "PROMPT = \"Your Name Name What 2 1 2 2\"\n",
    "PROMPT = \"Hello Hello My h h Name h 9 K E I I T H\"\n",
    "PROMPT = 'J my my H name name C H R I S'\n",
    "PROMPT = \"hello your hello H what name name name 5 what what\"\n",
    "# PROMPT= 'hello hello J my my my name name name K E I T H'\n",
    "# PROMPT = \"my name H name C H R I\"\n",
    "result = subprocess.run([\"./llama-cli/llama-cli\", \n",
    "                \"-m\",\n",
    "                \"./model/ggml-model-Q4_K_M.gguf\",\n",
    "                \"--jinja\",\n",
    "                # \"--chat-template\",\n",
    "                # \"{{'Reasoning': 'your reasoning', 'Output': 'your output'}}\",\n",
    "                \"--single-turn\",\n",
    "                \"-sys\",\n",
    "                SYSTEM,\n",
    "                \"-p\",\n",
    "                PROMPT,\n",
    "                \"--grammar-file\",\n",
    "                \"./grammar/english.gbnf\"],\n",
    "                capture_output=True,\n",
    "                text=True)\n",
    "s = result.stdout\n",
    "s"
   ]
  },
  {
   "cell_type": "code",
   "execution_count": 16,
   "metadata": {},
   "outputs": [
    {
     "name": "stdout",
     "output_type": "stream",
     "text": [
      "what is your name?\n"
     ]
    }
   ],
   "source": [
    "# Find the index of '[end of text]'\n",
    "end_marker = \"[end of text]\"\n",
    "end_index = s.find(end_marker)\n",
    "\n",
    "if end_index != -1:\n",
    "    # Get the substring before '[end of text]'\n",
    "    before_end = s[:end_index]\n",
    "\n",
    "    # Find the last newline before '[end of text]'\n",
    "    last_newline_index = before_end.rfind('\\n')\n",
    "\n",
    "    # Extract the line just before '[end of text]'\n",
    "    line_before_end = before_end[last_newline_index + 1:].strip()\n",
    "\n",
    "    print(line_before_end)\n",
    "else:\n",
    "    print(\"[end of text] not found.\")"
   ]
  },
  {
   "cell_type": "code",
   "execution_count": null,
   "metadata": {},
   "outputs": [],
   "source": []
  }
 ],
 "metadata": {
  "kernelspec": {
   "display_name": "Python 3",
   "language": "python",
   "name": "python3"
  },
  "language_info": {
   "codemirror_mode": {
    "name": "ipython",
    "version": 3
   },
   "file_extension": ".py",
   "mimetype": "text/x-python",
   "name": "python",
   "nbconvert_exporter": "python",
   "pygments_lexer": "ipython3",
   "version": "3.11.0"
  }
 },
 "nbformat": 4,
 "nbformat_minor": 2
}
