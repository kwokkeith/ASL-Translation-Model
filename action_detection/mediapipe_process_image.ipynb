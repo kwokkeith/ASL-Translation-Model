{
 "cells": [
  {
   "cell_type": "code",
   "execution_count": 8,
   "metadata": {},
   "outputs": [
    {
     "name": "stderr",
     "output_type": "stream",
     "text": [
      "I0000 00:00:1742103606.080073 5463451 gl_context.cc:369] GL version: 2.1 (2.1 Metal - 88.1), renderer: Apple M1 Max\n",
      "W0000 00:00:1742103606.162304 5469172 inference_feedback_manager.cc:114] Feedback manager requires a model with a single signature inference. Disabling support for feedback tensors.\n",
      "W0000 00:00:1742103606.174004 5469172 inference_feedback_manager.cc:114] Feedback manager requires a model with a single signature inference. Disabling support for feedback tensors.\n",
      "W0000 00:00:1742103606.176925 5469173 inference_feedback_manager.cc:114] Feedback manager requires a model with a single signature inference. Disabling support for feedback tensors.\n",
      "W0000 00:00:1742103606.177093 5469170 inference_feedback_manager.cc:114] Feedback manager requires a model with a single signature inference. Disabling support for feedback tensors.\n",
      "W0000 00:00:1742103606.177253 5469178 inference_feedback_manager.cc:114] Feedback manager requires a model with a single signature inference. Disabling support for feedback tensors.\n",
      "W0000 00:00:1742103606.181889 5469178 inference_feedback_manager.cc:114] Feedback manager requires a model with a single signature inference. Disabling support for feedback tensors.\n",
      "W0000 00:00:1742103606.182421 5469170 inference_feedback_manager.cc:114] Feedback manager requires a model with a single signature inference. Disabling support for feedback tensors.\n",
      "W0000 00:00:1742103606.182963 5469173 inference_feedback_manager.cc:114] Feedback manager requires a model with a single signature inference. Disabling support for feedback tensors.\n"
     ]
    }
   ],
   "source": [
    "import cv2\n",
    "import numpy as np\n",
    "import os\n",
    "import mediapipe as mp\n",
    "import argparse\n",
    "from utils import draw_styled_landmarks, extract_keypoints, \\\n",
    "    mediapipe_detection, find_first_available_camera\n",
    "import shutil\n",
    "\n",
    "mp_holistic = mp.solutions.holistic  # Holistic model\n",
    "mp_drawing = mp.solutions.drawing_utils  # Drawing Utilities\n",
    "\n",
    "\n",
    "# Load an image from file\n",
    "image_path = \"/Users/pe3nu7/Pictures/action_data/your.png\"  # Replace with your image file path\n",
    "image = cv2.imread(image_path)\n",
    "\n",
    "if image is None:\n",
    "    print(\"Error: Could not load image. Check file path.\")\n",
    "else:\n",
    "    with mp_holistic.Holistic(\n",
    "        min_detection_confidence=0.5, min_tracking_confidence=0.5\n",
    "    ) as holistic:\n",
    "        # Process the image\n",
    "        processed_image, results = mediapipe_detection(image, holistic)\n",
    "\n",
    "        # Draw landmarks\n",
    "        draw_styled_landmarks(processed_image, results)\n",
    "\n",
    "        # Save or display the result\n",
    "        output_path = image_path[:-4] + \"_output.jpg\"\n",
    "        cv2.imwrite(output_path, processed_image)\n",
    "        # cv2.imshow(\"Processed Image\", processed_image)\n",
    "        # cv2.waitKey(0)  # Wait for key press\n",
    "        # cv2.destroyAllWindows()"
   ]
  },
  {
   "cell_type": "code",
   "execution_count": null,
   "metadata": {},
   "outputs": [],
   "source": []
  }
 ],
 "metadata": {
  "kernelspec": {
   "display_name": "Python 3",
   "language": "python",
   "name": "python3"
  },
  "language_info": {
   "codemirror_mode": {
    "name": "ipython",
    "version": 3
   },
   "file_extension": ".py",
   "mimetype": "text/x-python",
   "name": "python",
   "nbconvert_exporter": "python",
   "pygments_lexer": "ipython3",
   "version": "3.11.11"
  }
 },
 "nbformat": 4,
 "nbformat_minor": 2
}
